{
 "cells": [
  {
   "cell_type": "code",
   "execution_count": 1,
   "metadata": {},
   "outputs": [],
   "source": [
    "import requests #A library to scrap the website \n",
    "from bs4 import BeautifulSoup #A library to extract the tags and extract useful information from the HTML data\n",
    "import pandas as pd #A useful library for data analysis"
   ]
  },
  {
   "cell_type": "code",
   "execution_count": 2,
   "metadata": {},
   "outputs": [],
   "source": [
    "website_url = \"https://en.wikipedia.org/wiki/List_of_unicorn_startup_companies\" #Initialising the url from which we will extract the information\n",
    "website_HTML = requests.get(website_url).text #HTML fetched data\n",
    "soup = BeautifulSoup(website_HTML, 'lxml') #Convert HTML data into soup object so that we can use in-built functions to extract information\n",
    "valuationTable = soup.find_all('table', {'class':'wikitable sortable'}) #Define which tags you need to extract from HTML data and what is the name of the class (in case you have many tables and here by giving class you can distingush the data)\n",
    "unicornTable = valuationTable[0] #Wiki Page has 2 tables with same class and first table consist of all startuos that are presently unicorn\n",
    "pastUnicornTable = valuationTable[1] #Second table has information of all the startups which were previously unicorn and are now in exited state"
   ]
  },
  {
   "cell_type": "code",
   "execution_count": 3,
   "metadata": {},
   "outputs": [],
   "source": [
    "#here I am defining a function in python to get pandas dataframe from extracted HTML information\n",
    "def findDFfromTable(table):\n",
    "    rows = table.findAll('tr') #Finding all the rows of the table <tr> is the tag that we used to define rows in HTML table\n",
    "    parsed_table_data = []\n",
    "    for row in rows: #Loop to clean the data and store in a 2D list data structure\n",
    "        children = row.findChildren(recursive=False)\n",
    "        row_text = []\n",
    "        for child in children:\n",
    "            clean_text = child.text\n",
    "            #This is to discard reference/citation links\n",
    "            clean_text = clean_text.split('&#91;')[0]\n",
    "            #This is to clean the header row of the sort icons\n",
    "            clean_text = clean_text.split('&#160;')[-1]\n",
    "            clean_text = clean_text.strip()\n",
    "            row_text.append(clean_text)\n",
    "        parsed_table_data.append(row_text)\n",
    "    \n",
    "    df = pd.DataFrame.from_records(parsed_table_data)\n",
    "    return df"
   ]
  },
  {
   "cell_type": "code",
   "execution_count": 4,
   "metadata": {},
   "outputs": [],
   "source": [
    "unicornDF = findDFfromTable(unicornTable) #Converting HTML Information into Pandas Dataframe: This will simplify our data analysis"
   ]
  },
  {
   "cell_type": "code",
   "execution_count": 5,
   "metadata": {},
   "outputs": [
    {
     "data": {
      "text/html": [
       "<div>\n",
       "<style scoped>\n",
       "    .dataframe tbody tr th:only-of-type {\n",
       "        vertical-align: middle;\n",
       "    }\n",
       "\n",
       "    .dataframe tbody tr th {\n",
       "        vertical-align: top;\n",
       "    }\n",
       "\n",
       "    .dataframe thead th {\n",
       "        text-align: right;\n",
       "    }\n",
       "</style>\n",
       "<table border=\"1\" class=\"dataframe\">\n",
       "  <thead>\n",
       "    <tr style=\"text-align: right;\">\n",
       "      <th></th>\n",
       "      <th>0</th>\n",
       "      <th>1</th>\n",
       "      <th>2</th>\n",
       "      <th>3</th>\n",
       "    </tr>\n",
       "  </thead>\n",
       "  <tbody>\n",
       "    <tr>\n",
       "      <td>0</td>\n",
       "      <td>Company</td>\n",
       "      <td>Valuation (US $billion)</td>\n",
       "      <td>Valuation date</td>\n",
       "      <td>Country/Region</td>\n",
       "    </tr>\n",
       "    <tr>\n",
       "      <td>1</td>\n",
       "      <td>Ant Financial</td>\n",
       "      <td>150</td>\n",
       "      <td>April 2018[10]</td>\n",
       "      <td>China</td>\n",
       "    </tr>\n",
       "    <tr>\n",
       "      <td>2</td>\n",
       "      <td>Bytedance</td>\n",
       "      <td>78.0</td>\n",
       "      <td>November 2018[11]</td>\n",
       "      <td>China</td>\n",
       "    </tr>\n",
       "    <tr>\n",
       "      <td>3</td>\n",
       "      <td>DiDi</td>\n",
       "      <td>51.6</td>\n",
       "      <td>December 2018[12]</td>\n",
       "      <td>China</td>\n",
       "    </tr>\n",
       "    <tr>\n",
       "      <td>4</td>\n",
       "      <td>Airbnb</td>\n",
       "      <td>38.0</td>\n",
       "      <td>March 2018[13]</td>\n",
       "      <td>US</td>\n",
       "    </tr>\n",
       "  </tbody>\n",
       "</table>\n",
       "</div>"
      ],
      "text/plain": [
       "               0                        1                  2               3\n",
       "0        Company  Valuation (US $billion)     Valuation date  Country/Region\n",
       "1  Ant Financial                      150     April 2018[10]           China\n",
       "2      Bytedance                     78.0  November 2018[11]           China\n",
       "3           DiDi                     51.6  December 2018[12]           China\n",
       "4         Airbnb                     38.0     March 2018[13]              US"
      ]
     },
     "execution_count": 5,
     "metadata": {},
     "output_type": "execute_result"
    }
   ],
   "source": [
    "unicornDF.head() # Returning top 5 rows from the dataframe and first row shows the name of columns"
   ]
  },
  {
   "cell_type": "code",
   "execution_count": 6,
   "metadata": {},
   "outputs": [
    {
     "data": {
      "text/html": [
       "<div>\n",
       "<style scoped>\n",
       "    .dataframe tbody tr th:only-of-type {\n",
       "        vertical-align: middle;\n",
       "    }\n",
       "\n",
       "    .dataframe tbody tr th {\n",
       "        vertical-align: top;\n",
       "    }\n",
       "\n",
       "    .dataframe thead th {\n",
       "        text-align: right;\n",
       "    }\n",
       "</style>\n",
       "<table border=\"1\" class=\"dataframe\">\n",
       "  <thead>\n",
       "    <tr style=\"text-align: right;\">\n",
       "      <th></th>\n",
       "      <th>Company</th>\n",
       "      <th>Valuation (US $billion)</th>\n",
       "      <th>Valuation Date</th>\n",
       "      <th>Country</th>\n",
       "    </tr>\n",
       "  </thead>\n",
       "  <tbody>\n",
       "    <tr>\n",
       "      <td>1</td>\n",
       "      <td>Ant Financial</td>\n",
       "      <td>150</td>\n",
       "      <td>April 2018[10]</td>\n",
       "      <td>China</td>\n",
       "    </tr>\n",
       "    <tr>\n",
       "      <td>2</td>\n",
       "      <td>Bytedance</td>\n",
       "      <td>78.0</td>\n",
       "      <td>November 2018[11]</td>\n",
       "      <td>China</td>\n",
       "    </tr>\n",
       "    <tr>\n",
       "      <td>3</td>\n",
       "      <td>DiDi</td>\n",
       "      <td>51.6</td>\n",
       "      <td>December 2018[12]</td>\n",
       "      <td>China</td>\n",
       "    </tr>\n",
       "    <tr>\n",
       "      <td>4</td>\n",
       "      <td>Airbnb</td>\n",
       "      <td>38.0</td>\n",
       "      <td>March 2018[13]</td>\n",
       "      <td>US</td>\n",
       "    </tr>\n",
       "    <tr>\n",
       "      <td>5</td>\n",
       "      <td>Stripe</td>\n",
       "      <td>35.0</td>\n",
       "      <td>September 2019[14]</td>\n",
       "      <td>US</td>\n",
       "    </tr>\n",
       "  </tbody>\n",
       "</table>\n",
       "</div>"
      ],
      "text/plain": [
       "         Company Valuation (US $billion)      Valuation Date Country\n",
       "1  Ant Financial                     150      April 2018[10]   China\n",
       "2      Bytedance                    78.0   November 2018[11]   China\n",
       "3           DiDi                    51.6   December 2018[12]   China\n",
       "4         Airbnb                    38.0      March 2018[13]      US\n",
       "5         Stripe                    35.0  September 2019[14]      US"
      ]
     },
     "execution_count": 6,
     "metadata": {},
     "output_type": "execute_result"
    }
   ],
   "source": [
    "unicornDF.columns = ['Company', 'Valuation (US $billion)', 'Valuation Date', 'Country'] #Setting the name of the columns\n",
    "unicornDF = unicornDF.drop(0) #Dropping the first row from table\n",
    "unicornDF.head()"
   ]
  },
  {
   "cell_type": "code",
   "execution_count": 7,
   "metadata": {},
   "outputs": [
    {
     "name": "stdout",
     "output_type": "stream",
     "text": [
      "<class 'pandas.core.frame.DataFrame'>\n",
      "Int64Index: 345 entries, 1 to 345\n",
      "Data columns (total 4 columns):\n",
      "Company                    345 non-null object\n",
      "Valuation (US $billion)    345 non-null object\n",
      "Valuation Date             345 non-null object\n",
      "Country                    345 non-null object\n",
      "dtypes: object(4)\n",
      "memory usage: 13.5+ KB\n"
     ]
    }
   ],
   "source": [
    "unicornDF.info() #This will return the datatype information of all the columns "
   ]
  },
  {
   "cell_type": "code",
   "execution_count": 8,
   "metadata": {},
   "outputs": [
    {
     "data": {
      "text/plain": [
       "(345, 4)"
      ]
     },
     "execution_count": 8,
     "metadata": {},
     "output_type": "execute_result"
    }
   ],
   "source": [
    "unicornDF.shape #return the number of rows V/s Number of Columns"
   ]
  },
  {
   "cell_type": "code",
   "execution_count": 9,
   "metadata": {},
   "outputs": [
    {
     "data": {
      "text/plain": [
       "array(['150', '78.0', '51.6', '38.0', '35.0', '33.3', '30.0', '24.0',\n",
       "       '20.0', '18.0', '15.0', '13.0', '11.0+', '10.77', '10.0+', '10.0',\n",
       "       '9.23', '9.0', '8.8', '8.0', '7.6', '7.3', '7.1', '7.0', '7',\n",
       "       '6.5', '6.4', '6.2', '5.5', '5.4', '5.0+', '5.0', '4.5', '4.4',\n",
       "       '4.3', '4.2', '4.05', '4.0+', '4.0', '3.95', '3.8', '3.7', '3.65',\n",
       "       '3.55', '3.5', '3.3', '3.25', '3.2', '3.17', '3+', '3.0', '2.9',\n",
       "       '2.8', '2.775', '2.75', '2.7', '2.65', '2.6', '2.55', '2.5', '2.4',\n",
       "       '2.39', '2.32', '2.19', '2.2', '2.1', '2.09', '2.0+', '2.0',\n",
       "       '2.0-', '1.98', '1.95', '1.94', '1.93', '1.9', '1.89', '1.85',\n",
       "       '1.82', '1.8', '1.78', '1.75', '1.7', '1.6', '1.5+', '1.5', '1.47',\n",
       "       '1.46', '1.45', '1.4', '1.33', '1.32', '1.3', '1.28', '1.27',\n",
       "       '1.26', '1.25', '1.2', '1.16', '1.13', '1.1', '1.05', '1.095', '1',\n",
       "       '1.04', '1+', '1.0', '5+'], dtype=object)"
      ]
     },
     "execution_count": 9,
     "metadata": {},
     "output_type": "execute_result"
    }
   ],
   "source": [
    "unicornDF['Valuation (US $billion)'].unique() #Return all the unique valuations "
   ]
  },
  {
   "cell_type": "code",
   "execution_count": 10,
   "metadata": {},
   "outputs": [],
   "source": [
    "unicornDF['Valuation (US $billion)'] = unicornDF['Valuation (US $billion)'].map(lambda x: x.rstrip('+-')) #Convert Valuation Column into float and this step will clean all the unnecessary signs like + or - as we can see in the above row"
   ]
  },
  {
   "cell_type": "code",
   "execution_count": 11,
   "metadata": {},
   "outputs": [],
   "source": [
    "unicornDF['Valuation (US $billion)'] = unicornDF['Valuation (US $billion)'].astype(float) #Convert data into float"
   ]
  },
  {
   "cell_type": "code",
   "execution_count": 12,
   "metadata": {},
   "outputs": [
    {
     "name": "stdout",
     "output_type": "stream",
     "text": [
      "<class 'pandas.core.frame.DataFrame'>\n",
      "Int64Index: 345 entries, 1 to 345\n",
      "Data columns (total 4 columns):\n",
      "Company                    345 non-null object\n",
      "Valuation (US $billion)    345 non-null float64\n",
      "Valuation Date             345 non-null object\n",
      "Country                    345 non-null object\n",
      "dtypes: float64(1), object(3)\n",
      "memory usage: 13.5+ KB\n"
     ]
    }
   ],
   "source": [
    "unicornDF.info() #Please compare the Valuation (US (#billion)) from the above row"
   ]
  },
  {
   "cell_type": "code",
   "execution_count": 13,
   "metadata": {},
   "outputs": [
    {
     "data": {
      "text/plain": [
       "Company                    345\n",
       "Valuation (US $billion)    345\n",
       "Valuation Date             345\n",
       "Country                    345\n",
       "dtype: int64"
      ]
     },
     "execution_count": 13,
     "metadata": {},
     "output_type": "execute_result"
    }
   ],
   "source": [
    "unicornDF.count()"
   ]
  },
  {
   "cell_type": "code",
   "execution_count": 14,
   "metadata": {},
   "outputs": [
    {
     "data": {
      "text/html": [
       "<div>\n",
       "<style scoped>\n",
       "    .dataframe tbody tr th:only-of-type {\n",
       "        vertical-align: middle;\n",
       "    }\n",
       "\n",
       "    .dataframe tbody tr th {\n",
       "        vertical-align: top;\n",
       "    }\n",
       "\n",
       "    .dataframe thead th {\n",
       "        text-align: right;\n",
       "    }\n",
       "</style>\n",
       "<table border=\"1\" class=\"dataframe\">\n",
       "  <thead>\n",
       "    <tr style=\"text-align: right;\">\n",
       "      <th></th>\n",
       "      <th>Company</th>\n",
       "      <th>Valuation (US $billion)</th>\n",
       "      <th>Valuation Date</th>\n",
       "      <th>Country</th>\n",
       "    </tr>\n",
       "  </thead>\n",
       "  <tbody>\n",
       "    <tr>\n",
       "      <td>1</td>\n",
       "      <td>Ant Financial</td>\n",
       "      <td>150.00</td>\n",
       "      <td>April 2018[10]</td>\n",
       "      <td>China</td>\n",
       "    </tr>\n",
       "    <tr>\n",
       "      <td>2</td>\n",
       "      <td>Bytedance</td>\n",
       "      <td>78.00</td>\n",
       "      <td>November 2018[11]</td>\n",
       "      <td>China</td>\n",
       "    </tr>\n",
       "    <tr>\n",
       "      <td>3</td>\n",
       "      <td>DiDi</td>\n",
       "      <td>51.60</td>\n",
       "      <td>December 2018[12]</td>\n",
       "      <td>China</td>\n",
       "    </tr>\n",
       "    <tr>\n",
       "      <td>4</td>\n",
       "      <td>Airbnb</td>\n",
       "      <td>38.00</td>\n",
       "      <td>March 2018[13]</td>\n",
       "      <td>US</td>\n",
       "    </tr>\n",
       "    <tr>\n",
       "      <td>5</td>\n",
       "      <td>Stripe</td>\n",
       "      <td>35.00</td>\n",
       "      <td>September 2019[14]</td>\n",
       "      <td>US</td>\n",
       "    </tr>\n",
       "    <tr>\n",
       "      <td>6</td>\n",
       "      <td>SpaceX</td>\n",
       "      <td>33.30</td>\n",
       "      <td>May 2019[15]</td>\n",
       "      <td>US</td>\n",
       "    </tr>\n",
       "    <tr>\n",
       "      <td>7</td>\n",
       "      <td>Lufax</td>\n",
       "      <td>30.00</td>\n",
       "      <td>June 2018[16]</td>\n",
       "      <td>China</td>\n",
       "    </tr>\n",
       "    <tr>\n",
       "      <td>8</td>\n",
       "      <td>JUUL Labs</td>\n",
       "      <td>24.00</td>\n",
       "      <td>October 2019[17]</td>\n",
       "      <td>US</td>\n",
       "    </tr>\n",
       "    <tr>\n",
       "      <td>9</td>\n",
       "      <td>Cainiao</td>\n",
       "      <td>20.00</td>\n",
       "      <td>September 2017[16]</td>\n",
       "      <td>China</td>\n",
       "    </tr>\n",
       "    <tr>\n",
       "      <td>10</td>\n",
       "      <td>Palantir Technologies</td>\n",
       "      <td>20.00</td>\n",
       "      <td>November 2018[18]</td>\n",
       "      <td>US</td>\n",
       "    </tr>\n",
       "    <tr>\n",
       "      <td>11</td>\n",
       "      <td>Kuaishou</td>\n",
       "      <td>18.00</td>\n",
       "      <td>April 2018[16]</td>\n",
       "      <td>China</td>\n",
       "    </tr>\n",
       "    <tr>\n",
       "      <td>12</td>\n",
       "      <td>Paytm</td>\n",
       "      <td>18.00</td>\n",
       "      <td>March 2019[19]</td>\n",
       "      <td>India</td>\n",
       "    </tr>\n",
       "    <tr>\n",
       "      <td>14</td>\n",
       "      <td>Epic Games</td>\n",
       "      <td>15.00</td>\n",
       "      <td>October 2018[1]</td>\n",
       "      <td>US</td>\n",
       "    </tr>\n",
       "    <tr>\n",
       "      <td>13</td>\n",
       "      <td>DJI</td>\n",
       "      <td>15.00</td>\n",
       "      <td>September 2016[1]</td>\n",
       "      <td>China</td>\n",
       "    </tr>\n",
       "    <tr>\n",
       "      <td>15</td>\n",
       "      <td>Lianjia (Homelink)</td>\n",
       "      <td>13.00</td>\n",
       "      <td>September 2018[20]</td>\n",
       "      <td>China</td>\n",
       "    </tr>\n",
       "    <tr>\n",
       "      <td>16</td>\n",
       "      <td>Wish (fka ContextLogic)</td>\n",
       "      <td>11.00</td>\n",
       "      <td>August 2019[21][5][1][22]</td>\n",
       "      <td>US</td>\n",
       "    </tr>\n",
       "    <tr>\n",
       "      <td>17</td>\n",
       "      <td>Jiedaibao</td>\n",
       "      <td>10.77</td>\n",
       "      <td>March 2018[23]</td>\n",
       "      <td>China</td>\n",
       "    </tr>\n",
       "    <tr>\n",
       "      <td>18</td>\n",
       "      <td>Nubank</td>\n",
       "      <td>10.00</td>\n",
       "      <td>July 2019[24][25]</td>\n",
       "      <td>Brazil</td>\n",
       "    </tr>\n",
       "    <tr>\n",
       "      <td>19</td>\n",
       "      <td>OYO</td>\n",
       "      <td>10.00</td>\n",
       "      <td>June 2019[26]</td>\n",
       "      <td>India</td>\n",
       "    </tr>\n",
       "    <tr>\n",
       "      <td>20</td>\n",
       "      <td>Grab</td>\n",
       "      <td>10.00</td>\n",
       "      <td>June 2018[27]</td>\n",
       "      <td>Singapore</td>\n",
       "    </tr>\n",
       "    <tr>\n",
       "      <td>21</td>\n",
       "      <td>Go-Jek</td>\n",
       "      <td>10.00</td>\n",
       "      <td>April 2019[28]</td>\n",
       "      <td>Indonesia</td>\n",
       "    </tr>\n",
       "    <tr>\n",
       "      <td>22</td>\n",
       "      <td>WeBank</td>\n",
       "      <td>9.23</td>\n",
       "      <td>March 2018[23]</td>\n",
       "      <td>China</td>\n",
       "    </tr>\n",
       "    <tr>\n",
       "      <td>23</td>\n",
       "      <td>Coupang</td>\n",
       "      <td>9.00</td>\n",
       "      <td>March 2018[29]</td>\n",
       "      <td>South Korea</td>\n",
       "    </tr>\n",
       "    <tr>\n",
       "      <td>24</td>\n",
       "      <td>PingAn Health Insurance Tech</td>\n",
       "      <td>8.80</td>\n",
       "      <td>March 2018[23]</td>\n",
       "      <td>China</td>\n",
       "    </tr>\n",
       "    <tr>\n",
       "      <td>26</td>\n",
       "      <td>OneConnect</td>\n",
       "      <td>8.00</td>\n",
       "      <td>February 2018[16]</td>\n",
       "      <td>Canada</td>\n",
       "    </tr>\n",
       "    <tr>\n",
       "      <td>25</td>\n",
       "      <td>Coinbase</td>\n",
       "      <td>8.00</td>\n",
       "      <td>October 2018[30]</td>\n",
       "      <td>US</td>\n",
       "    </tr>\n",
       "    <tr>\n",
       "      <td>27</td>\n",
       "      <td>Robinhood</td>\n",
       "      <td>7.60</td>\n",
       "      <td>July 2019[31][32]</td>\n",
       "      <td>US</td>\n",
       "    </tr>\n",
       "    <tr>\n",
       "      <td>28</td>\n",
       "      <td>Instacart</td>\n",
       "      <td>7.60</td>\n",
       "      <td>October 2018[33]</td>\n",
       "      <td>US</td>\n",
       "    </tr>\n",
       "    <tr>\n",
       "      <td>29</td>\n",
       "      <td>JD Finance</td>\n",
       "      <td>7.30</td>\n",
       "      <td>January 2016[16]</td>\n",
       "      <td>China</td>\n",
       "    </tr>\n",
       "    <tr>\n",
       "      <td>30</td>\n",
       "      <td>DoorDash</td>\n",
       "      <td>7.10</td>\n",
       "      <td>February 2019[34]</td>\n",
       "      <td>US</td>\n",
       "    </tr>\n",
       "  </tbody>\n",
       "</table>\n",
       "</div>"
      ],
      "text/plain": [
       "                         Company  Valuation (US $billion)  \\\n",
       "1                  Ant Financial                   150.00   \n",
       "2                      Bytedance                    78.00   \n",
       "3                           DiDi                    51.60   \n",
       "4                         Airbnb                    38.00   \n",
       "5                         Stripe                    35.00   \n",
       "6                         SpaceX                    33.30   \n",
       "7                          Lufax                    30.00   \n",
       "8                      JUUL Labs                    24.00   \n",
       "9                        Cainiao                    20.00   \n",
       "10         Palantir Technologies                    20.00   \n",
       "11                      Kuaishou                    18.00   \n",
       "12                         Paytm                    18.00   \n",
       "14                    Epic Games                    15.00   \n",
       "13                           DJI                    15.00   \n",
       "15            Lianjia (Homelink)                    13.00   \n",
       "16       Wish (fka ContextLogic)                    11.00   \n",
       "17                     Jiedaibao                    10.77   \n",
       "18                        Nubank                    10.00   \n",
       "19                           OYO                    10.00   \n",
       "20                          Grab                    10.00   \n",
       "21                        Go-Jek                    10.00   \n",
       "22                        WeBank                     9.23   \n",
       "23                       Coupang                     9.00   \n",
       "24  PingAn Health Insurance Tech                     8.80   \n",
       "26                    OneConnect                     8.00   \n",
       "25                      Coinbase                     8.00   \n",
       "27                     Robinhood                     7.60   \n",
       "28                     Instacart                     7.60   \n",
       "29                    JD Finance                     7.30   \n",
       "30                      DoorDash                     7.10   \n",
       "\n",
       "               Valuation Date      Country  \n",
       "1              April 2018[10]        China  \n",
       "2           November 2018[11]        China  \n",
       "3           December 2018[12]        China  \n",
       "4              March 2018[13]           US  \n",
       "5          September 2019[14]           US  \n",
       "6                May 2019[15]           US  \n",
       "7               June 2018[16]        China  \n",
       "8            October 2019[17]           US  \n",
       "9          September 2017[16]        China  \n",
       "10          November 2018[18]           US  \n",
       "11             April 2018[16]        China  \n",
       "12             March 2019[19]        India  \n",
       "14            October 2018[1]           US  \n",
       "13          September 2016[1]        China  \n",
       "15         September 2018[20]        China  \n",
       "16  August 2019[21][5][1][22]           US  \n",
       "17             March 2018[23]        China  \n",
       "18          July 2019[24][25]       Brazil  \n",
       "19              June 2019[26]        India  \n",
       "20              June 2018[27]    Singapore  \n",
       "21             April 2019[28]    Indonesia  \n",
       "22             March 2018[23]        China  \n",
       "23             March 2018[29]  South Korea  \n",
       "24             March 2018[23]        China  \n",
       "26          February 2018[16]       Canada  \n",
       "25           October 2018[30]           US  \n",
       "27          July 2019[31][32]           US  \n",
       "28           October 2018[33]           US  \n",
       "29           January 2016[16]        China  \n",
       "30          February 2019[34]           US  "
      ]
     },
     "execution_count": 14,
     "metadata": {},
     "output_type": "execute_result"
    }
   ],
   "source": [
    "#Sort the dataframe with respect to Valuation in descending order and find new dataframe from top 30 Valued\n",
    "top30Valued = unicornDF.sort_values('Valuation (US $billion)', ascending = False).head(30)\n",
    "top30Valued"
   ]
  },
  {
   "cell_type": "code",
   "execution_count": 15,
   "metadata": {},
   "outputs": [
    {
     "data": {
      "text/plain": [
       "China          12\n",
       "US             11\n",
       "India           2\n",
       "Indonesia       1\n",
       "Brazil          1\n",
       "Singapore       1\n",
       "South Korea     1\n",
       "Canada          1\n",
       "Name: Country, dtype: int64"
      ]
     },
     "execution_count": 15,
     "metadata": {},
     "output_type": "execute_result"
    }
   ],
   "source": [
    "#Now the data analysis part starts\n",
    "#This will countrywise count of unicorns in top30 unicorns\n",
    "#Basically The data tells us that there are 12 Chinese Unicorns in top 30 Unicorns of world\n",
    "#11 Unicorns of US in top 30 Unicorns of World\n",
    "#2 Unicorns of India in top 30 unicorns of World\n",
    "top30Valued['Country'].value_counts()"
   ]
  },
  {
   "cell_type": "markdown",
   "metadata": {},
   "source": [
    "# Now we want to know which 2 unicorn startups of India are in this list"
   ]
  },
  {
   "cell_type": "code",
   "execution_count": 16,
   "metadata": {},
   "outputs": [
    {
     "data": {
      "text/html": [
       "<div>\n",
       "<style scoped>\n",
       "    .dataframe tbody tr th:only-of-type {\n",
       "        vertical-align: middle;\n",
       "    }\n",
       "\n",
       "    .dataframe tbody tr th {\n",
       "        vertical-align: top;\n",
       "    }\n",
       "\n",
       "    .dataframe thead th {\n",
       "        text-align: right;\n",
       "    }\n",
       "</style>\n",
       "<table border=\"1\" class=\"dataframe\">\n",
       "  <thead>\n",
       "    <tr style=\"text-align: right;\">\n",
       "      <th></th>\n",
       "      <th>Company</th>\n",
       "      <th>Valuation (US $billion)</th>\n",
       "      <th>Valuation Date</th>\n",
       "      <th>Country</th>\n",
       "    </tr>\n",
       "  </thead>\n",
       "  <tbody>\n",
       "    <tr>\n",
       "      <td>12</td>\n",
       "      <td>Paytm</td>\n",
       "      <td>18.0</td>\n",
       "      <td>March 2019[19]</td>\n",
       "      <td>India</td>\n",
       "    </tr>\n",
       "    <tr>\n",
       "      <td>19</td>\n",
       "      <td>OYO</td>\n",
       "      <td>10.0</td>\n",
       "      <td>June 2019[26]</td>\n",
       "      <td>India</td>\n",
       "    </tr>\n",
       "  </tbody>\n",
       "</table>\n",
       "</div>"
      ],
      "text/plain": [
       "   Company  Valuation (US $billion)  Valuation Date Country\n",
       "12   Paytm                     18.0  March 2019[19]   India\n",
       "19     OYO                     10.0   June 2019[26]   India"
      ]
     },
     "execution_count": 16,
     "metadata": {},
     "output_type": "execute_result"
    }
   ],
   "source": [
    "#This will return the name of the companies which are Indian Unicorns in top 30 Unicorns of the world. \n",
    "top30Valued[top30Valued['Country']==\"India\"]"
   ]
  },
  {
   "cell_type": "markdown",
   "metadata": {},
   "source": [
    "# Surprised Flipkart is not in the list: You will come to know later "
   ]
  },
  {
   "cell_type": "markdown",
   "metadata": {},
   "source": [
    "# Now we want a list of all the countries Where Unicorns existed"
   ]
  },
  {
   "cell_type": "code",
   "execution_count": 17,
   "metadata": {},
   "outputs": [
    {
     "name": "stdout",
     "output_type": "stream",
     "text": [
      "Total Number of Countries 37\n",
      "Argentina\n",
      "Australia\n",
      "Belgium\n",
      "Belgium /  Netherlands\n",
      "Brazil\n",
      "Canada\n",
      "Chile\n",
      "China\n",
      "Colombia\n",
      "Estonia\n",
      "France\n",
      "Germany\n",
      "Hong Kong\n",
      "India\n",
      "India /  US\n",
      "India/ US\n",
      "Indonesia\n",
      "Israel\n",
      "Japan\n",
      "Lithuania\n",
      "Luxembourg\n",
      "Portugal\n",
      "Portugal /  UK\n",
      "Russia\n",
      "Singapore\n",
      "Singapore /  Israel\n",
      "Singapore /   Switzerland\n",
      "South Korea\n",
      "Spain\n",
      "Sweden\n",
      "Switzerland\n",
      "UAE\n",
      "UK\n",
      "US\n",
      "US /  Israel\n",
      "US /  Romania\n",
      "Ukraine\n"
     ]
    }
   ],
   "source": [
    "uniqueCountry = unicornDF['Country'].unique()\n",
    "uniqueCountry.sort()\n",
    "print(\"Total Number of Countries\", len(uniqueCountry))\n",
    "for country in uniqueCountry:\n",
    "    print(country)"
   ]
  },
  {
   "cell_type": "markdown",
   "metadata": {},
   "source": [
    "## Let's find some more information\n"
   ]
  },
  {
   "cell_type": "markdown",
   "metadata": {},
   "source": [
    "1. Sum of valuation of all unicorns\n",
    "2. Percentage of Money in top 30 unicorns compared to all unicorns\n",
    "3. Highest Valued Company\n",
    "4. Number of Multi-Billion Startups (Valuation > $1B)"
   ]
  },
  {
   "cell_type": "code",
   "execution_count": 18,
   "metadata": {},
   "outputs": [
    {
     "name": "stdout",
     "output_type": "stream",
     "text": [
      "The total valuation of all the unicorns is 1297.01 Billion Dollars\n"
     ]
    }
   ],
   "source": [
    "print(\"The total valuation of all the unicorns is\", unicornDF['Valuation (US $billion)'].sum(), \"Billion Dollars\")"
   ]
  },
  {
   "cell_type": "code",
   "execution_count": 19,
   "metadata": {},
   "outputs": [
    {
     "name": "stdout",
     "output_type": "stream",
     "text": [
      "The % valuation money of top 30 startups 53.453712770140555 %\n"
     ]
    }
   ],
   "source": [
    "print(\"The % valuation money of top 30 startups\", top30Valued['Valuation (US $billion)'].sum()*100/unicornDF['Valuation (US $billion)'].sum(), \"%\" )"
   ]
  },
  {
   "cell_type": "code",
   "execution_count": 20,
   "metadata": {},
   "outputs": [
    {
     "name": "stdout",
     "output_type": "stream",
     "text": [
      "Highest Valued Company is  Ant Financial\n"
     ]
    }
   ],
   "source": [
    "print(\"Highest Valued Company is \", top30Valued['Company'][1])"
   ]
  },
  {
   "cell_type": "code",
   "execution_count": 21,
   "metadata": {},
   "outputs": [
    {
     "name": "stdout",
     "output_type": "stream",
     "text": [
      "Number of Multi-Billion Startups (Valuation > $1B) Company                    237\n",
      "Valuation (US $billion)    237\n",
      "Valuation Date             237\n",
      "Country                    237\n",
      "dtype: int64\n"
     ]
    }
   ],
   "source": [
    "print(\"Number of Multi-Billion Startups (Valuation > $1B)\", unicornDF[unicornDF['Valuation (US $billion)']>1].count())"
   ]
  },
  {
   "cell_type": "code",
   "execution_count": 22,
   "metadata": {},
   "outputs": [],
   "source": [
    "multiBillion = unicornDF[unicornDF['Valuation (US $billion)']>1]"
   ]
  },
  {
   "cell_type": "code",
   "execution_count": 23,
   "metadata": {},
   "outputs": [
    {
     "data": {
      "text/plain": [
       "US                     88\n",
       "China                  80\n",
       "India                  15\n",
       "South Korea            10\n",
       "UK                     10\n",
       "Indonesia               5\n",
       "Singapore               2\n",
       "Sweden                  2\n",
       "Switzerland             2\n",
       "Germany                 2\n",
       "France                  2\n",
       "Israel                  2\n",
       "Singapore /  Israel     1\n",
       "Brazil                  1\n",
       "Spain                   1\n",
       "Belgium                 1\n",
       "US /  Israel            1\n",
       "Chile                   1\n",
       "Portugal /  UK          1\n",
       "Canada                  1\n",
       "Colombia                1\n",
       "Australia               1\n",
       "US /  Romania           1\n",
       "India /  US             1\n",
       "Russia                  1\n",
       "Ukraine                 1\n",
       "Luxembourg              1\n",
       "Japan                   1\n",
       "Lithuania               1\n",
       "Name: Country, dtype: int64"
      ]
     },
     "execution_count": 23,
     "metadata": {},
     "output_type": "execute_result"
    }
   ],
   "source": [
    "multiBillion['Country'].value_counts() #Country-wise list of multi-billion startups"
   ]
  },
  {
   "cell_type": "code",
   "execution_count": 24,
   "metadata": {},
   "outputs": [
    {
     "data": {
      "text/plain": [
       "1.5"
      ]
     },
     "execution_count": 24,
     "metadata": {},
     "output_type": "execute_result"
    }
   ],
   "source": [
    "unicornDF['Valuation (US $billion)'].median()"
   ]
  },
  {
   "cell_type": "code",
   "execution_count": 25,
   "metadata": {},
   "outputs": [
    {
     "data": {
      "text/plain": [
       "0    2.0\n",
       "dtype: float64"
      ]
     },
     "execution_count": 25,
     "metadata": {},
     "output_type": "execute_result"
    }
   ],
   "source": [
    "multiBillion['Valuation (US $billion)'].mode()"
   ]
  },
  {
   "cell_type": "code",
   "execution_count": null,
   "metadata": {},
   "outputs": [],
   "source": []
  }
 ],
 "metadata": {
  "kernelspec": {
   "display_name": "Python 3",
   "language": "python",
   "name": "python3"
  },
  "language_info": {
   "codemirror_mode": {
    "name": "ipython",
    "version": 3
   },
   "file_extension": ".py",
   "mimetype": "text/x-python",
   "name": "python",
   "nbconvert_exporter": "python",
   "pygments_lexer": "ipython3",
   "version": "3.7.4"
  }
 },
 "nbformat": 4,
 "nbformat_minor": 2
}
