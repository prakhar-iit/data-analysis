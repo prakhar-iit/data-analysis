{
 "cells": [
  {
   "cell_type": "code",
   "execution_count": 1,
   "metadata": {},
   "outputs": [],
   "source": [
    "import requests \n",
    "from bs4 import BeautifulSoup\n",
    "import pandas as pd \n",
    "import selenium.webdriver\n",
    "from lxml import html\n",
    "import pandas as pd \n",
    "import time\n",
    "from selenium.webdriver.support.select import Select"
   ]
  },
  {
   "cell_type": "code",
   "execution_count": 2,
   "metadata": {},
   "outputs": [],
   "source": [
    "def find_test_data(testName):\n",
    "    #Add Column Names Here\n",
    "    df = pd.DataFrame(columns=['', '','','','',''])\n",
    "    driver.switch_to.frame(driver.find_element_by_tag_name(\"iframe\"));\n",
    "    driver.find_elements_by_xpath(\"//*[@href]\")[13].click()\n",
    "    body = driver.page_source; \n",
    "    soup = BeautifulSoup(body);\n",
    "    #soup = BeautifulSoup(body);\n",
    "    #table = driver.find_element_by_class_name(\"bs-example\")\n",
    "    table = soup.find_all(\"div\", {\"class\": \"bs-example\"});\n",
    "    rows = table[0].find_all(\"tr\");\n",
    "    parsed_table_data = [];\n",
    "    for row in rows: \n",
    "        children = row.findChildren(recursive=False);\n",
    "        row_text = [];\n",
    "        for child in children:\n",
    "            clean_text = child.text;\n",
    "            clean_text = clean_text.split('&#91;')[0];\n",
    "            clean_text = clean_text.split('&#160;')[-1];\n",
    "            clean_text = clean_text.strip();\n",
    "            row_text.append(clean_text);\n",
    "        parsed_table_data.append(row_text);\n",
    "    df = pd.DataFrame.from_records(parsed_table_data);\n",
    "    df = df.tail(-2);\n",
    "    return df; "
   ]
  },
  {
   "cell_type": "code",
   "execution_count": 147,
   "metadata": {},
   "outputs": [],
   "source": [
    "def scrap_test(varc_numQuestions, dilr_numQuestions, qa_numQuestions): \n",
    "    VARC_data = find_sectional_data(varc_numQuestions); \n",
    "    change_section(1); \n",
    "    DILR_data = find_sectional_data(dilr_numQuestions);\n",
    "    change_section(2); \n",
    "    QA_data = find_sectional_data(qa_numQuestions); \n",
    "    return VARC_data + DILR_data + QA_data; "
   ]
  },
  {
   "cell_type": "code",
   "execution_count": 148,
   "metadata": {},
   "outputs": [],
   "source": [
    "def change_section(index):\n",
    "    sel = Select (driver.find_element_by_id (\"aea1\"));\n",
    "    sel.select_by_index(index);\n",
    "    time.sleep(2); "
   ]
  },
  {
   "cell_type": "code",
   "execution_count": 149,
   "metadata": {},
   "outputs": [],
   "source": [
    "def find_sectional_data(numQuestions): \n",
    "    sectional_data = \"\"; \n",
    "    for x in range(numQuestions): \n",
    "        sectional_data = sectional_data + find_question_data();   \n",
    "        if(x!=numQuestions-1):\n",
    "            next_button = driver.find_element_by_id(\"nxtbtn\"); \n",
    "            next_button.click(); \n",
    "            time.sleep(0.5); \n",
    "    return sectional_data;"
   ]
  },
  {
   "cell_type": "code",
   "execution_count": 150,
   "metadata": {},
   "outputs": [],
   "source": [
    "#soup.find_all(\"div\", {\"class\": \"qa\"})\n",
    "def find_question_data():\n",
    "    #passage if any\n",
    "    div = driver.find_element_by_xpath('//*[@id=\"container\"]/div/div/div[6]/div[2]');\n",
    "    question = div.get_attribute('innerHTML');\n",
    "    question = question.replace('\\n','').replace('\\t','');\n",
    "    #Question Detail\n",
    "    qDiv = driver.find_element_by_class_name('qa');\n",
    "    options = qDiv.get_attribute('innerHTML');\n",
    "    options = options.replace('\\n','');\n",
    "    options = options.replace('\\t','');\n",
    "    return question + options; "
   ]
  },
  {
   "cell_type": "code",
   "execution_count": 3,
   "metadata": {},
   "outputs": [],
   "source": [
    "#Load Driver\n",
    "driver = selenium.webdriver.Chrome();\n",
    "# Do the Login in the open chrome window by typing URL"
   ]
  },
  {
   "cell_type": "code",
   "execution_count": 135,
   "metadata": {},
   "outputs": [],
   "source": [
    "url = \"https://www.time4education.com/moodle/aimcatresults/aimcat-detailed-results.asp?testno=565E485D565E485E565E485D565E485F565E48&idcardno=565E4827565E4820565E482C565E482C565E485F565E482E565E4856565E4856565E485A565E48&fl=565E485E565E48\";\n",
    "testName = \"AIMCAT 20\";\n",
    "driver.get(url);\n",
    "test_data = find_test_data(testName); \n",
    "test_data.to_csv('AIMCAT_20.csv')"
   ]
  },
  {
   "cell_type": "code",
   "execution_count": 128,
   "metadata": {},
   "outputs": [],
   "source": [
    "url = \"https://www.time4education.com/moodle/aimcatresults/aimcat-detailed-results.asp?testno=565E485D565E485E565E485D565E485F565E48&idcardno=565E4827565E4820565E482C565E482C565E485F565E482E565E4856565E4856565E485A565E48&fl=565E485E565E48\";\n",
    "numQuestions = 34;\n",
    "driver.get(url);\n",
    "driver.switch_to.frame(driver.find_element_by_tag_name(\"iframe\"));\n",
    "driver.find_elements_by_xpath(\"//*[@href]\")[10].click()\n",
    "test_data = scrap_test(numQuestions);\n",
    "Html_file= open(\"AIMCAT_20.html\",\"w\");\n",
    "Html_file.write(test_data);\n",
    "Html_file.close(); "
   ]
  },
  {
   "cell_type": "code",
   "execution_count": 136,
   "metadata": {},
   "outputs": [],
   "source": [
    "url = \"https://www.time4education.com/moodle/aimcatresults/aimcatresults.asp?idcardno=595b4827595b4820595b482c595b482c595b485f595b482e595b4856595b4856595b485a595b48&testno=595b485d595b485e595b485e595b4856595b48&fl=595e485e595e48&pge=595b480e595b4806595b4802595b480c595b480e595b481b595b48\";\n",
    "testName = \"AIMCAT 19\";\n",
    "driver.get(url);\n",
    "test_data = find_test_data(testName); \n",
    "test_data.to_csv('AIMCAT_19.csv')"
   ]
  },
  {
   "cell_type": "code",
   "execution_count": 129,
   "metadata": {},
   "outputs": [],
   "source": [
    "url = \"https://www.time4education.com/moodle/aimcatresults/aimcatresults.asp?idcardno=595b4827595b4820595b482c595b482c595b485f595b482e595b4856595b4856595b485a595b48&testno=595b485d595b485e595b485e595b4856595b48&fl=595e485e595e48&pge=595b480e595b4806595b4802595b480c595b480e595b481b595b48\";\n",
    "numQuestions = 34;\n",
    "driver.get(url);\n",
    "driver.switch_to.frame(driver.find_element_by_tag_name(\"iframe\"));\n",
    "driver.find_elements_by_xpath(\"//*[@href]\")[10].click()\n",
    "test_data = scrap_test(numQuestions);\n",
    "Html_file= open(\"AIMCAT_19.html\",\"w\");\n",
    "Html_file.write(test_data);\n",
    "Html_file.close(); "
   ]
  },
  {
   "cell_type": "code",
   "execution_count": 137,
   "metadata": {},
   "outputs": [],
   "source": [
    "url = \"https://www.time4education.com/moodle/aimcatresults/aimcatresults.asp?idcardno=595b4827595b4820595b482c595b482c595b485f595b482e595b4856595b4856595b485a595b48&testno=595b485d595b485e595b485e595b4857595b48&fl=595e485e595e48&pge=595b480e595b4806595b4802595b480c595b480e595b481b595b48\";\n",
    "testName = \"AIMCAT 18\";\n",
    "driver.get(url);\n",
    "test_data = find_test_data(testName); \n",
    "test_data.to_csv('AIMCAT_18.csv')"
   ]
  },
  {
   "cell_type": "code",
   "execution_count": 130,
   "metadata": {},
   "outputs": [],
   "source": [
    "url = \"https://www.time4education.com/moodle/aimcatresults/aimcatresults.asp?idcardno=595b4827595b4820595b482c595b482c595b485f595b482e595b4856595b4856595b485a595b48&testno=595b485d595b485e595b485e595b4856595b48&fl=595e485e595e48&pge=595b480e595b4806595b4802595b480c595b480e595b481b595b48\";\n",
    "numQuestions = 34;\n",
    "driver.get(url);\n",
    "driver.switch_to.frame(driver.find_element_by_tag_name(\"iframe\"));\n",
    "driver.find_elements_by_xpath(\"//*[@href]\")[10].click()\n",
    "test_data = scrap_test(numQuestions);\n",
    "Html_file= open(\"AIMCAT_18.html\",\"w\");\n",
    "Html_file.write(test_data);\n",
    "Html_file.close(); "
   ]
  },
  {
   "cell_type": "code",
   "execution_count": 138,
   "metadata": {},
   "outputs": [],
   "source": [
    "url = \"https://www.time4education.com/moodle/aimcatresults/aimcatresults.asp?idcardno=595b4827595b4820595b482c595b482c595b485f595b482e595b4856595b4856595b485a595b48&testno=595b485d595b485e595b485e595b4858595b48&fl=595e485e595e48&pge=595b480e595b4806595b4802595b480c595b480e595b481b595b48\";\n",
    "testName = \"AIMCAT 17\";\n",
    "driver.get(url);\n",
    "test_data = find_test_data(testName); \n",
    "test_data.to_csv('AIMCAT_17.csv')"
   ]
  },
  {
   "cell_type": "code",
   "execution_count": 131,
   "metadata": {},
   "outputs": [],
   "source": [
    "url = \"https://www.time4education.com/moodle/aimcatresults/aimcatresults.asp?idcardno=595b4827595b4820595b482c595b482c595b485f595b482e595b4856595b4856595b485a595b48&testno=595b485d595b485e595b485e595b4858595b48&fl=595e485e595e48&pge=595b480e595b4806595b4802595b480c595b480e595b481b595b48\";\n",
    "numQuestions = 34;\n",
    "driver.get(url);\n",
    "driver.switch_to.frame(driver.find_element_by_tag_name(\"iframe\"));\n",
    "driver.find_elements_by_xpath(\"//*[@href]\")[10].click()\n",
    "test_data = scrap_test(numQuestions);\n",
    "Html_file= open(\"AIMCAT_17.html\",\"w\");\n",
    "Html_file.write(test_data);\n",
    "Html_file.close(); "
   ]
  },
  {
   "cell_type": "code",
   "execution_count": 139,
   "metadata": {},
   "outputs": [],
   "source": [
    "url = \"https://www.time4education.com/moodle/aimcatresults/aimcatresults.asp?idcardno=595b4827595b4820595b482c595b482c595b485f595b482e595b4856595b4856595b485a595b48&testno=595b485d595b485e595b485e595b4859595b48&fl=595e485e595e48&pge=595b480e595b4806595b4802595b480c595b480e595b481b595b48\";\n",
    "testName = \"AIMCAT 16\";\n",
    "driver.get(url);\n",
    "test_data = find_test_data(testName); \n",
    "test_data.to_csv('AIMCAT_16.csv')"
   ]
  },
  {
   "cell_type": "code",
   "execution_count": 132,
   "metadata": {},
   "outputs": [],
   "source": [
    "url = \"https://www.time4education.com/moodle/aimcatresults/aimcatresults.asp?idcardno=595b4827595b4820595b482c595b482c595b485f595b482e595b4856595b4856595b485a595b48&testno=595b485d595b485e595b485e595b4859595b48&fl=595e485e595e48&pge=595b480e595b4806595b4802595b480c595b480e595b481b595b48\";\n",
    "numQuestions = 34;\n",
    "driver.get(url);\n",
    "driver.switch_to.frame(driver.find_element_by_tag_name(\"iframe\"));\n",
    "driver.find_elements_by_xpath(\"//*[@href]\")[10].click()\n",
    "test_data = scrap_test(numQuestions);\n",
    "Html_file= open(\"AIMCAT_16.html\",\"w\");\n",
    "Html_file.write(test_data);\n",
    "Html_file.close(); "
   ]
  },
  {
   "cell_type": "code",
   "execution_count": 140,
   "metadata": {},
   "outputs": [],
   "source": [
    "url = \"https://www.time4education.com/moodle/aimcatresults/aimcatresults.asp?idcardno=595b4827595b4820595b482c595b482c595b485f595b482e595b4856595b4856595b485a595b48&testno=595b485d595b485e595b485e595b485b595b48&fl=595e485e595e48&pge=595b480e595b4806595b4802595b480c595b480e595b481b595b48\";\n",
    "testName = \"AIMCAT 14\";\n",
    "driver.get(url);\n",
    "test_data = find_test_data(testName); \n",
    "test_data.to_csv('AIMCAT_14.csv')"
   ]
  },
  {
   "cell_type": "code",
   "execution_count": 133,
   "metadata": {},
   "outputs": [],
   "source": [
    "url = \"https://www.time4education.com/moodle/aimcatresults/aimcatresults.asp?idcardno=595b4827595b4820595b482c595b482c595b485f595b482e595b4856595b4856595b485a595b48&testno=595b485d595b485e595b485e595b485b595b48&fl=595e485e595e48&pge=595b480e595b4806595b4802595b480c595b480e595b481b595b48\";\n",
    "numQuestions = 34;\n",
    "driver.get(url);\n",
    "driver.switch_to.frame(driver.find_element_by_tag_name(\"iframe\"));\n",
    "driver.find_elements_by_xpath(\"//*[@href]\")[10].click()\n",
    "test_data = scrap_test(numQuestions);\n",
    "Html_file= open(\"AIMCAT_14.html\",\"w\");\n",
    "Html_file.write(test_data);\n",
    "Html_file.close(); "
   ]
  },
  {
   "cell_type": "code",
   "execution_count": 141,
   "metadata": {},
   "outputs": [],
   "source": [
    "url = \"https://www.time4education.com/moodle/aimcatresults/aimcatresults.asp?idcardno=595b4827595b4820595b482c595b482c595b485f595b482e595b4856595b4856595b485a595b48&testno=595b485d595b485e595b485e595b485d595b48&fl=595e485e595e48&pge=595b480e595b4806595b4802595b480c595b480e595b481b595b48\";\n",
    "testName = \"AIMCAT 12\";\n",
    "driver.get(url);\n",
    "test_data = find_test_data(testName); \n",
    "test_data.to_csv('AIMCAT_12.csv')"
   ]
  },
  {
   "cell_type": "code",
   "execution_count": 134,
   "metadata": {},
   "outputs": [],
   "source": [
    "url = \"https://www.time4education.com/moodle/aimcatresults/aimcatresults.asp?idcardno=595b4827595b4820595b482c595b482c595b485f595b482e595b4856595b4856595b485a595b48&testno=595b485d595b485e595b485e595b485d595b48&fl=595e485e595e48&pge=595b480e595b4806595b4802595b480c595b480e595b481b595b48\";\n",
    "numQuestions = 34;\n",
    "driver.get(url);\n",
    "driver.switch_to.frame(driver.find_element_by_tag_name(\"iframe\"));\n",
    "driver.find_elements_by_xpath(\"//*[@href]\")[10].click()\n",
    "test_data = scrap_test(numQuestions);\n",
    "Html_file= open(\"AIMCAT_12.html\",\"w\");\n",
    "Html_file.write(test_data);\n",
    "Html_file.close(); "
   ]
  },
  {
   "cell_type": "code",
   "execution_count": 142,
   "metadata": {},
   "outputs": [],
   "source": [
    "url = \"https://www.time4education.com/moodle/aimcatresults/aimcatresults.asp?idcardno=595b4827595b4820595b482c595b482c595b485f595b482e595b4856595b4856595b485a595b48&testno=595b485d595b485e595b485e595b485e595b48&fl=595e485e595e48&pge=595b480e595b4806595b4802595b480c595b480e595b481b595b48\";\n",
    "testName = \"AIMCAT 11\";\n",
    "driver.get(url);\n",
    "test_data = find_test_data(testName); \n",
    "test_data.to_csv('AIMCAT_11.csv')"
   ]
  },
  {
   "cell_type": "code",
   "execution_count": 135,
   "metadata": {},
   "outputs": [],
   "source": [
    "url = \"https://www.time4education.com/moodle/aimcatresults/aimcatresults.asp?idcardno=595b4827595b4820595b482c595b482c595b485f595b482e595b4856595b4856595b485a595b48&testno=595b485d595b485e595b485e595b485e595b48&fl=595e485e595e48&pge=595b480e595b4806595b4802595b480c595b480e595b481b595b48\";\n",
    "numQuestions = 34;\n",
    "driver.get(url);\n",
    "driver.switch_to.frame(driver.find_element_by_tag_name(\"iframe\"));\n",
    "driver.find_elements_by_xpath(\"//*[@href]\")[10].click()\n",
    "test_data = scrap_test(numQuestions);\n",
    "Html_file= open(\"AIMCAT_11.html\",\"w\");\n",
    "Html_file.write(test_data);\n",
    "Html_file.close(); "
   ]
  },
  {
   "cell_type": "code",
   "execution_count": 143,
   "metadata": {},
   "outputs": [],
   "source": [
    "url = \"https://www.time4education.com/moodle/aimcatresults/aimcatresults.asp?idcardno=595b4827595b4820595b482c595b482c595b485f595b482e595b4856595b4856595b485a595b48&testno=595b485d595b485e595b485e595b485f595b48&fl=595e485e595e48&pge=595b480e595b4806595b4802595b480c595b480e595b481b595b48\";\n",
    "testName = \"AIMCAT 10\";\n",
    "driver.get(url);\n",
    "test_data = find_test_data(testName); \n",
    "test_data.to_csv('AIMCAT_10.csv')"
   ]
  },
  {
   "cell_type": "code",
   "execution_count": 136,
   "metadata": {},
   "outputs": [],
   "source": [
    "url = \"https://www.time4education.com/moodle/aimcatresults/aimcatresults.asp?idcardno=595b4827595b4820595b482c595b482c595b485f595b482e595b4856595b4856595b485a595b48&testno=595b485d595b485e595b485e595b485f595b48&fl=595e485e595e48&pge=595b480e595b4806595b4802595b480c595b480e595b481b595b48\";\n",
    "numQuestions = 34;\n",
    "driver.get(url);\n",
    "driver.switch_to.frame(driver.find_element_by_tag_name(\"iframe\"));\n",
    "driver.find_elements_by_xpath(\"//*[@href]\")[10].click()\n",
    "test_data = scrap_test(numQuestions);\n",
    "Html_file= open(\"AIMCAT_10.html\",\"w\");\n",
    "Html_file.write(test_data);\n",
    "Html_file.close(); "
   ]
  },
  {
   "cell_type": "code",
   "execution_count": 144,
   "metadata": {},
   "outputs": [],
   "source": [
    "url = \"https://www.time4education.com/moodle/aimcatresults/aimcatresults.asp?idcardno=595b4827595b4820595b482c595b482c595b485f595b482e595b4856595b4856595b485a595b48&testno=595b485d595b485e595b485f595b4856595b48&fl=595e485e595e48&pge=595b480e595b4806595b4802595b480c595b480e595b481b595b48\";\n",
    "testName = \"AIMCAT 9\";\n",
    "driver.get(url);\n",
    "test_data = find_test_data(testName); \n",
    "test_data.to_csv('AIMCAT_9.csv')"
   ]
  },
  {
   "cell_type": "code",
   "execution_count": 140,
   "metadata": {},
   "outputs": [],
   "source": [
    "url = \"https://www.time4education.com/moodle/aimcatresults/aimcatresults.asp?idcardno=595b4827595b4820595b482c595b482c595b485f595b482e595b4856595b4856595b485a595b48&testno=595b485d595b485e595b485f595b4856595b48&fl=595e485e595e48&pge=595b480e595b4806595b4802595b480c595b480e595b481b595b48\";\n",
    "varc_Questions = 23;\n",
    "dilr_Questions = 20; \n",
    "qa_Questions = 23; \n",
    "driver.get(url);\n",
    "driver.switch_to.frame(driver.find_element_by_tag_name(\"iframe\"));\n",
    "driver.find_elements_by_xpath(\"//*[@href]\")[10].click()\n",
    "test_data = scrap_test(varc_Questions, dilr_Questions, qa_Questions);\n",
    "Html_file= open(\"AIMCAT_9.html\",\"w\");\n",
    "Html_file.write(test_data);\n",
    "Html_file.close(); "
   ]
  },
  {
   "cell_type": "code",
   "execution_count": 145,
   "metadata": {},
   "outputs": [],
   "source": [
    "url = \"https://www.time4education.com/moodle/aimcatresults/aimcatresults.asp?idcardno=595b4827595b4820595b482c595b482c595b485f595b482e595b4856595b4856595b485a595b48&testno=595b485d595b485e595b485f595b4857595b48&fl=595e485e595e48&pge=595b480e595b4806595b4802595b480c595b480e595b481b595b48\";\n",
    "testName = \"AIMCAT 8\";\n",
    "driver.get(url);\n",
    "test_data = find_test_data(testName); \n",
    "test_data.to_csv('AIMCAT_8.csv')"
   ]
  },
  {
   "cell_type": "code",
   "execution_count": 141,
   "metadata": {},
   "outputs": [
    {
     "name": "stderr",
     "output_type": "stream",
     "text": [
      "/Users/prakrast/opt/anaconda3/lib/python3.7/site-packages/selenium-4.0.0a5-py3.7.egg/selenium/webdriver/remote/webdriver.py:581: UserWarning: find_element_by_* commands are deprecated. Please use find_element() instead\n",
      "  warnings.warn(\"find_element_by_* commands are deprecated. Please use find_element() instead\")\n",
      "/Users/prakrast/opt/anaconda3/lib/python3.7/site-packages/selenium-4.0.0a5-py3.7.egg/selenium/webdriver/remote/webdriver.py:440: UserWarning: find_elements_by_* commands are deprecated. Please use find_elements() instead\n",
      "  warnings.warn(\"find_elements_by_* commands are deprecated. Please use find_elements() instead\")\n",
      "/Users/prakrast/opt/anaconda3/lib/python3.7/site-packages/selenium-4.0.0a5-py3.7.egg/selenium/webdriver/remote/webdriver.py:421: UserWarning: find_element_by_* commands are deprecated. Please use find_element() instead\n",
      "  warnings.warn(\"find_element_by_* commands are deprecated. Please use find_element() instead\")\n",
      "/Users/prakrast/opt/anaconda3/lib/python3.7/site-packages/selenium-4.0.0a5-py3.7.egg/selenium/webdriver/remote/webdriver.py:621: UserWarning: find_element_by_* commands are deprecated. Please use find_element() instead\n",
      "  warnings.warn(\"find_element_by_* commands are deprecated. Please use find_element() instead\")\n",
      "/Users/prakrast/opt/anaconda3/lib/python3.7/site-packages/selenium-4.0.0a5-py3.7.egg/selenium/webdriver/remote/webdriver.py:381: UserWarning: find_element_by_* commands are deprecated. Please use find_element() instead\n",
      "  warnings.warn(\"find_element_by_* commands are deprecated. Please use find_element() instead\")\n"
     ]
    }
   ],
   "source": [
    "url = \"https://www.time4education.com/moodle/aimcatresults/aimcatresults.asp?idcardno=595b4827595b4820595b482c595b482c595b485f595b482e595b4856595b4856595b485a595b48&testno=595b485d595b485e595b485f595b4857595b48&fl=595e485e595e48&pge=595b480e595b4806595b4802595b480c595b480e595b481b595b48\";\n",
    "varc_Questions = 24;\n",
    "dilr_Questions = 24; \n",
    "qa_Questions = 24; \n",
    "driver.get(url);\n",
    "driver.switch_to.frame(driver.find_element_by_tag_name(\"iframe\"));\n",
    "driver.find_elements_by_xpath(\"//*[@href]\")[10].click()\n",
    "test_data = scrap_test(varc_Questions, dilr_Questions, qa_Questions);\n",
    "Html_file= open(\"AIMCAT_8.html\",\"w\");\n",
    "Html_file.write(test_data);\n",
    "Html_file.close(); "
   ]
  },
  {
   "cell_type": "code",
   "execution_count": 146,
   "metadata": {},
   "outputs": [],
   "source": [
    "url = \"https://www.time4education.com/moodle/aimcatresults/aimcatresults.asp?idcardno=595b4827595b4820595b482c595b482c595b485f595b482e595b4856595b4856595b485a595b48&testno=595b485d595b485e595b485f595b4858595b48&fl=595e485e595e48&pge=595b480e595b4806595b4802595b480c595b480e595b481b595b48\";\n",
    "testName = \"AIMCAT 7\";\n",
    "driver.get(url);\n",
    "test_data = find_test_data(testName); \n",
    "test_data.to_csv('AIMCAT_7.csv')\n"
   ]
  },
  {
   "cell_type": "code",
   "execution_count": 142,
   "metadata": {},
   "outputs": [],
   "source": [
    "url = \"https://www.time4education.com/moodle/aimcatresults/aimcatresults.asp?idcardno=595b4827595b4820595b482c595b482c595b485f595b482e595b4856595b4856595b485a595b48&testno=595b485d595b485e595b485f595b4858595b48&fl=595e485e595e48&pge=595b480e595b4806595b4802595b480c595b480e595b481b595b48\";\n",
    "varc_Questions = 24;\n",
    "dilr_Questions = 24; \n",
    "qa_Questions = 24; \n",
    "driver.get(url);\n",
    "driver.switch_to.frame(driver.find_element_by_tag_name(\"iframe\"));\n",
    "driver.find_elements_by_xpath(\"//*[@href]\")[10].click()\n",
    "test_data = scrap_test(varc_Questions, dilr_Questions, qa_Questions);\n",
    "Html_file= open(\"AIMCAT_7.html\",\"w\");\n",
    "Html_file.write(test_data);\n",
    "Html_file.close(); "
   ]
  },
  {
   "cell_type": "code",
   "execution_count": 147,
   "metadata": {},
   "outputs": [],
   "source": [
    "url = \"https://www.time4education.com/moodle/aimcatresults/aimcatresults.asp?idcardno=595b4827595b4820595b482c595b482c595b485f595b482e595b4856595b4856595b485a595b48&testno=595b485d595b485e595b485f595b4859595b48&fl=595e485e595e48&pge=595b480e595b4806595b4802595b480c595b480e595b481b595b48\";\n",
    "testName = \"AIMCAT 6\";\n",
    "driver.get(url);\n",
    "test_data = find_test_data(testName); \n",
    "test_data.to_csv('AIMCAT_6.csv')"
   ]
  },
  {
   "cell_type": "code",
   "execution_count": 143,
   "metadata": {},
   "outputs": [],
   "source": [
    "url = \"https://www.time4education.com/moodle/aimcatresults/aimcatresults.asp?idcardno=595b4827595b4820595b482c595b482c595b485f595b482e595b4856595b4856595b485a595b48&testno=595b485d595b485e595b485f595b4858595b48&fl=595e485e595e48&pge=595b480e595b4806595b4802595b480c595b480e595b481b595b48\";\n",
    "varc_Questions = 24;\n",
    "dilr_Questions = 24; \n",
    "qa_Questions = 24; \n",
    "driver.get(url);\n",
    "driver.switch_to.frame(driver.find_element_by_tag_name(\"iframe\"));\n",
    "driver.find_elements_by_xpath(\"//*[@href]\")[10].click()\n",
    "test_data = scrap_test(varc_Questions, dilr_Questions, qa_Questions);\n",
    "Html_file= open(\"AIMCAT_6.html\",\"w\");\n",
    "Html_file.write(test_data);\n",
    "Html_file.close(); "
   ]
  },
  {
   "cell_type": "code",
   "execution_count": 148,
   "metadata": {},
   "outputs": [],
   "source": [
    "url = \"https://www.time4education.com/moodle/aimcatresults/aimcatresults.asp?idcardno=595b4827595b4820595b482c595b482c595b485f595b482e595b4856595b4856595b485a595b48&testno=595b485d595b485e595b485f595b485a595b48&fl=595e485e595e48&pge=595b480e595b4806595b4802595b480c595b480e595b481b595b48\";\n",
    "testName = \"AIMCAT 5\";\n",
    "driver.get(url);\n",
    "test_data = find_test_data(testName); \n",
    "test_data.to_csv('AIMCAT_5.csv')"
   ]
  },
  {
   "cell_type": "code",
   "execution_count": 144,
   "metadata": {},
   "outputs": [],
   "source": [
    "url = \"https://www.time4education.com/moodle/aimcatresults/aimcatresults.asp?idcardno=595b4827595b4820595b482c595b482c595b485f595b482e595b4856595b4856595b485a595b48&testno=595b485d595b485e595b485f595b485a595b48&fl=595e485e595e48&pge=595b480e595b4806595b4802595b480c595b480e595b481b595b48\";\n",
    "varc_Questions = 25;\n",
    "dilr_Questions = 25; \n",
    "qa_Questions = 25; \n",
    "driver.get(url);\n",
    "driver.switch_to.frame(driver.find_element_by_tag_name(\"iframe\"));\n",
    "driver.find_elements_by_xpath(\"//*[@href]\")[10].click()\n",
    "test_data = scrap_test(varc_Questions, dilr_Questions, qa_Questions);\n",
    "Html_file= open(\"AIMCAT_5.html\",\"w\");\n",
    "Html_file.write(test_data);\n",
    "Html_file.close(); "
   ]
  },
  {
   "cell_type": "code",
   "execution_count": 149,
   "metadata": {},
   "outputs": [],
   "source": [
    "url = \"https://www.time4education.com/moodle/aimcatresults/aimcatresults.asp?idcardno=595b4827595b4820595b482c595b482c595b485f595b482e595b4856595b4856595b485a595b48&testno=595b485d595b485e595b485f595b485b595b48&fl=595e485e595e48&pge=595b480e595b4806595b4802595b480c595b480e595b481b595b48\";\n",
    "testName = \"AIMCAT 4\";\n",
    "driver.get(url);\n",
    "test_data = find_test_data(testName); \n",
    "test_data.to_csv('AIMCAT_4.csv')"
   ]
  },
  {
   "cell_type": "code",
   "execution_count": 145,
   "metadata": {},
   "outputs": [],
   "source": [
    "url = \"https://www.time4education.com/moodle/aimcatresults/aimcatresults.asp?idcardno=595b4827595b4820595b482c595b482c595b485f595b482e595b4856595b4856595b485a595b48&testno=595b485d595b485e595b485f595b485b595b48&fl=595e485e595e48&pge=595b480e595b4806595b4802595b480c595b480e595b481b595b48\";\n",
    "varc_Questions = 27;\n",
    "dilr_Questions = 26; \n",
    "qa_Questions = 27; \n",
    "driver.get(url);\n",
    "driver.switch_to.frame(driver.find_element_by_tag_name(\"iframe\"));\n",
    "driver.find_elements_by_xpath(\"//*[@href]\")[10].click()\n",
    "test_data = scrap_test(varc_Questions, dilr_Questions, qa_Questions);\n",
    "Html_file= open(\"AIMCAT_4.html\",\"w\");\n",
    "Html_file.write(test_data);\n",
    "Html_file.close(); "
   ]
  },
  {
   "cell_type": "code",
   "execution_count": 150,
   "metadata": {},
   "outputs": [],
   "source": [
    "url = \"https://www.time4education.com/moodle/aimcatresults/aimcatresults.asp?idcardno=595b4827595b4820595b482c595b482c595b485f595b482e595b4856595b4856595b485a595b48&testno=595b485d595b485e595b485f595b485c595b48&fl=595e485e595e48&pge=595b480e595b4806595b4802595b480c595b480e595b481b595b48\";\n",
    "testName = \"AIMCAT 3\";\n",
    "driver.get(url);\n",
    "test_data = find_test_data(testName); \n",
    "test_data.to_csv('AIMCAT_3.csv')"
   ]
  },
  {
   "cell_type": "code",
   "execution_count": 146,
   "metadata": {},
   "outputs": [],
   "source": [
    "url = \"https://www.time4education.com/moodle/aimcatresults/aimcatresults.asp?idcardno=595b4827595b4820595b482c595b482c595b485f595b482e595b4856595b4856595b485a595b48&testno=595b485d595b485e595b485f595b485c595b48&fl=595e485e595e48&pge=595b480e595b4806595b4802595b480c595b480e595b481b595b48\";\n",
    "varc_Questions = 24;\n",
    "dilr_Questions = 24; \n",
    "qa_Questions = 24; \n",
    "driver.get(url);\n",
    "driver.switch_to.frame(driver.find_element_by_tag_name(\"iframe\"));\n",
    "driver.find_elements_by_xpath(\"//*[@href]\")[10].click()\n",
    "test_data = scrap_test(varc_Questions, dilr_Questions, qa_Questions);\n",
    "Html_file= open(\"AIMCAT_3.html\",\"w\");\n",
    "Html_file.write(test_data);\n",
    "Html_file.close(); "
   ]
  },
  {
   "cell_type": "code",
   "execution_count": null,
   "metadata": {},
   "outputs": [],
   "source": []
  },
  {
   "cell_type": "code",
   "execution_count": 151,
   "metadata": {},
   "outputs": [
    {
     "ename": "NoSuchElementException",
     "evalue": "Message: no such element: Unable to locate element: {\"method\":\"css selector\",\"selector\":\"iframe\"}\n  (Session info: chrome=87.0.4280.141)\nStacktrace:\n0   chromedriver                        0x000000010fa0bd79 chromedriver + 2510201\n1   chromedriver                        0x0000000110078743 chromedriver + 9246531\n2   chromedriver                        0x000000010f846623 chromedriver + 652835\n3   chromedriver                        0x000000010f7ccd37 chromedriver + 154935\n4   chromedriver                        0x000000010f7f9834 chromedriver + 337972\n5   chromedriver                        0x000000010f7e8b5d chromedriver + 269149\n6   chromedriver                        0x000000010f7f7a96 chromedriver + 330390\n7   chromedriver                        0x000000010f7e8e23 chromedriver + 269859\n8   chromedriver                        0x000000010f7c200a chromedriver + 110602\n9   chromedriver                        0x000000010f7c2fc7 chromedriver + 114631\n10  chromedriver                        0x000000010f9dd429 chromedriver + 2319401\n11  chromedriver                        0x000000010f9e953f chromedriver + 2368831\n12  chromedriver                        0x000000010f9e9150 chromedriver + 2367824\n13  chromedriver                        0x000000010f9c423b chromedriver + 2216507\n14  chromedriver                        0x000000010f9e9a91 chromedriver + 2370193\n15  chromedriver                        0x000000010f9d24f9 chromedriver + 2274553\n16  chromedriver                        0x000000010f9fff89 chromedriver + 2461577\n17  chromedriver                        0x000000010fa113b3 chromedriver + 2532275\n18  libsystem_pthread.dylib             0x00007fff74f742eb _pthread_body + 126\n19  libsystem_pthread.dylib             0x00007fff74f77249 _pthread_start + 66\n20  libsystem_pthread.dylib             0x00007fff74f7340d thread_start + 13\n",
     "output_type": "error",
     "traceback": [
      "\u001b[0;31m---------------------------------------------------------------------------\u001b[0m",
      "\u001b[0;31mNoSuchElementException\u001b[0m                    Traceback (most recent call last)",
      "\u001b[0;32m<ipython-input-151-8bc6e243f20f>\u001b[0m in \u001b[0;36m<module>\u001b[0;34m\u001b[0m\n\u001b[1;32m      4\u001b[0m \u001b[0mqa_Questions\u001b[0m \u001b[0;34m=\u001b[0m \u001b[0;36m24\u001b[0m\u001b[0;34m;\u001b[0m\u001b[0;34m\u001b[0m\u001b[0;34m\u001b[0m\u001b[0m\n\u001b[1;32m      5\u001b[0m \u001b[0mdriver\u001b[0m\u001b[0;34m.\u001b[0m\u001b[0mget\u001b[0m\u001b[0;34m(\u001b[0m\u001b[0murl\u001b[0m\u001b[0;34m)\u001b[0m\u001b[0;34m;\u001b[0m\u001b[0;34m\u001b[0m\u001b[0;34m\u001b[0m\u001b[0m\n\u001b[0;32m----> 6\u001b[0;31m \u001b[0mdriver\u001b[0m\u001b[0;34m.\u001b[0m\u001b[0mswitch_to\u001b[0m\u001b[0;34m.\u001b[0m\u001b[0mframe\u001b[0m\u001b[0;34m(\u001b[0m\u001b[0mdriver\u001b[0m\u001b[0;34m.\u001b[0m\u001b[0mfind_element_by_tag_name\u001b[0m\u001b[0;34m(\u001b[0m\u001b[0;34m\"iframe\"\u001b[0m\u001b[0;34m)\u001b[0m\u001b[0;34m)\u001b[0m\u001b[0;34m;\u001b[0m\u001b[0;34m\u001b[0m\u001b[0;34m\u001b[0m\u001b[0m\n\u001b[0m\u001b[1;32m      7\u001b[0m \u001b[0mdriver\u001b[0m\u001b[0;34m.\u001b[0m\u001b[0mfind_elements_by_xpath\u001b[0m\u001b[0;34m(\u001b[0m\u001b[0;34m\"//*[@href]\"\u001b[0m\u001b[0;34m)\u001b[0m\u001b[0;34m[\u001b[0m\u001b[0;36m10\u001b[0m\u001b[0;34m]\u001b[0m\u001b[0;34m.\u001b[0m\u001b[0mclick\u001b[0m\u001b[0;34m(\u001b[0m\u001b[0;34m)\u001b[0m\u001b[0;34m\u001b[0m\u001b[0;34m\u001b[0m\u001b[0m\n\u001b[1;32m      8\u001b[0m \u001b[0mtest_data\u001b[0m \u001b[0;34m=\u001b[0m \u001b[0mscrap_test\u001b[0m\u001b[0;34m(\u001b[0m\u001b[0mvarc_Questions\u001b[0m\u001b[0;34m,\u001b[0m \u001b[0mdilr_Questions\u001b[0m\u001b[0;34m,\u001b[0m \u001b[0mqa_Questions\u001b[0m\u001b[0;34m)\u001b[0m\u001b[0;34m;\u001b[0m\u001b[0;34m\u001b[0m\u001b[0;34m\u001b[0m\u001b[0m\n",
      "\u001b[0;32m~/opt/anaconda3/lib/python3.7/site-packages/selenium-4.0.0a5-py3.7.egg/selenium/webdriver/remote/webdriver.py\u001b[0m in \u001b[0;36mfind_element_by_tag_name\u001b[0;34m(self, name)\u001b[0m\n\u001b[1;32m    580\u001b[0m         \"\"\"\n\u001b[1;32m    581\u001b[0m         \u001b[0mwarnings\u001b[0m\u001b[0;34m.\u001b[0m\u001b[0mwarn\u001b[0m\u001b[0;34m(\u001b[0m\u001b[0;34m\"find_element_by_* commands are deprecated. Please use find_element() instead\"\u001b[0m\u001b[0;34m)\u001b[0m\u001b[0;34m\u001b[0m\u001b[0;34m\u001b[0m\u001b[0m\n\u001b[0;32m--> 582\u001b[0;31m         \u001b[0;32mreturn\u001b[0m \u001b[0mself\u001b[0m\u001b[0;34m.\u001b[0m\u001b[0mfind_element\u001b[0m\u001b[0;34m(\u001b[0m\u001b[0mby\u001b[0m\u001b[0;34m=\u001b[0m\u001b[0mBy\u001b[0m\u001b[0;34m.\u001b[0m\u001b[0mTAG_NAME\u001b[0m\u001b[0;34m,\u001b[0m \u001b[0mvalue\u001b[0m\u001b[0;34m=\u001b[0m\u001b[0mname\u001b[0m\u001b[0;34m)\u001b[0m\u001b[0;34m\u001b[0m\u001b[0;34m\u001b[0m\u001b[0m\n\u001b[0m\u001b[1;32m    583\u001b[0m \u001b[0;34m\u001b[0m\u001b[0m\n\u001b[1;32m    584\u001b[0m     \u001b[0;32mdef\u001b[0m \u001b[0mfind_elements_by_tag_name\u001b[0m\u001b[0;34m(\u001b[0m\u001b[0mself\u001b[0m\u001b[0;34m,\u001b[0m \u001b[0mname\u001b[0m\u001b[0;34m)\u001b[0m\u001b[0;34m:\u001b[0m\u001b[0;34m\u001b[0m\u001b[0;34m\u001b[0m\u001b[0m\n",
      "\u001b[0;32m~/opt/anaconda3/lib/python3.7/site-packages/selenium-4.0.0a5-py3.7.egg/selenium/webdriver/remote/webdriver.py\u001b[0m in \u001b[0;36mfind_element\u001b[0;34m(self, by, value)\u001b[0m\n\u001b[1;32m   1083\u001b[0m         return self.execute(Command.FIND_ELEMENT, {\n\u001b[1;32m   1084\u001b[0m             \u001b[0;34m'using'\u001b[0m\u001b[0;34m:\u001b[0m \u001b[0mby\u001b[0m\u001b[0;34m,\u001b[0m\u001b[0;34m\u001b[0m\u001b[0;34m\u001b[0m\u001b[0m\n\u001b[0;32m-> 1085\u001b[0;31m             'value': value})['value']\n\u001b[0m\u001b[1;32m   1086\u001b[0m \u001b[0;34m\u001b[0m\u001b[0m\n\u001b[1;32m   1087\u001b[0m     \u001b[0;32mdef\u001b[0m \u001b[0mfind_elements\u001b[0m\u001b[0;34m(\u001b[0m\u001b[0mself\u001b[0m\u001b[0;34m,\u001b[0m \u001b[0mby\u001b[0m\u001b[0;34m=\u001b[0m\u001b[0mBy\u001b[0m\u001b[0;34m.\u001b[0m\u001b[0mID\u001b[0m\u001b[0;34m,\u001b[0m \u001b[0mvalue\u001b[0m\u001b[0;34m=\u001b[0m\u001b[0;32mNone\u001b[0m\u001b[0;34m)\u001b[0m\u001b[0;34m:\u001b[0m\u001b[0;34m\u001b[0m\u001b[0;34m\u001b[0m\u001b[0m\n",
      "\u001b[0;32m~/opt/anaconda3/lib/python3.7/site-packages/selenium-4.0.0a5-py3.7.egg/selenium/webdriver/remote/webdriver.py\u001b[0m in \u001b[0;36mexecute\u001b[0;34m(self, driver_command, params)\u001b[0m\n\u001b[1;32m    336\u001b[0m         \u001b[0mresponse\u001b[0m \u001b[0;34m=\u001b[0m \u001b[0mself\u001b[0m\u001b[0;34m.\u001b[0m\u001b[0mcommand_executor\u001b[0m\u001b[0;34m.\u001b[0m\u001b[0mexecute\u001b[0m\u001b[0;34m(\u001b[0m\u001b[0mdriver_command\u001b[0m\u001b[0;34m,\u001b[0m \u001b[0mparams\u001b[0m\u001b[0;34m)\u001b[0m\u001b[0;34m\u001b[0m\u001b[0;34m\u001b[0m\u001b[0m\n\u001b[1;32m    337\u001b[0m         \u001b[0;32mif\u001b[0m \u001b[0mresponse\u001b[0m\u001b[0;34m:\u001b[0m\u001b[0;34m\u001b[0m\u001b[0;34m\u001b[0m\u001b[0m\n\u001b[0;32m--> 338\u001b[0;31m             \u001b[0mself\u001b[0m\u001b[0;34m.\u001b[0m\u001b[0merror_handler\u001b[0m\u001b[0;34m.\u001b[0m\u001b[0mcheck_response\u001b[0m\u001b[0;34m(\u001b[0m\u001b[0mresponse\u001b[0m\u001b[0;34m)\u001b[0m\u001b[0;34m\u001b[0m\u001b[0;34m\u001b[0m\u001b[0m\n\u001b[0m\u001b[1;32m    339\u001b[0m             response['value'] = self._unwrap_value(\n\u001b[1;32m    340\u001b[0m                 response.get('value', None))\n",
      "\u001b[0;32m~/opt/anaconda3/lib/python3.7/site-packages/selenium-4.0.0a5-py3.7.egg/selenium/webdriver/remote/errorhandler.py\u001b[0m in \u001b[0;36mcheck_response\u001b[0;34m(self, response)\u001b[0m\n\u001b[1;32m    238\u001b[0m                 \u001b[0malert_text\u001b[0m \u001b[0;34m=\u001b[0m \u001b[0mvalue\u001b[0m\u001b[0;34m[\u001b[0m\u001b[0;34m'alert'\u001b[0m\u001b[0;34m]\u001b[0m\u001b[0;34m.\u001b[0m\u001b[0mget\u001b[0m\u001b[0;34m(\u001b[0m\u001b[0;34m'text'\u001b[0m\u001b[0;34m)\u001b[0m\u001b[0;34m\u001b[0m\u001b[0;34m\u001b[0m\u001b[0m\n\u001b[1;32m    239\u001b[0m             \u001b[0;32mraise\u001b[0m \u001b[0mexception_class\u001b[0m\u001b[0;34m(\u001b[0m\u001b[0mmessage\u001b[0m\u001b[0;34m,\u001b[0m \u001b[0mscreen\u001b[0m\u001b[0;34m,\u001b[0m \u001b[0mstacktrace\u001b[0m\u001b[0;34m,\u001b[0m \u001b[0malert_text\u001b[0m\u001b[0;34m)\u001b[0m\u001b[0;34m\u001b[0m\u001b[0;34m\u001b[0m\u001b[0m\n\u001b[0;32m--> 240\u001b[0;31m         \u001b[0;32mraise\u001b[0m \u001b[0mexception_class\u001b[0m\u001b[0;34m(\u001b[0m\u001b[0mmessage\u001b[0m\u001b[0;34m,\u001b[0m \u001b[0mscreen\u001b[0m\u001b[0;34m,\u001b[0m \u001b[0mstacktrace\u001b[0m\u001b[0;34m)\u001b[0m\u001b[0;34m\u001b[0m\u001b[0;34m\u001b[0m\u001b[0m\n\u001b[0m\u001b[1;32m    241\u001b[0m \u001b[0;34m\u001b[0m\u001b[0m\n\u001b[1;32m    242\u001b[0m     \u001b[0;32mdef\u001b[0m \u001b[0m_value_or_default\u001b[0m\u001b[0;34m(\u001b[0m\u001b[0mself\u001b[0m\u001b[0;34m,\u001b[0m \u001b[0mobj\u001b[0m\u001b[0;34m,\u001b[0m \u001b[0mkey\u001b[0m\u001b[0;34m,\u001b[0m \u001b[0mdefault\u001b[0m\u001b[0;34m)\u001b[0m\u001b[0;34m:\u001b[0m\u001b[0;34m\u001b[0m\u001b[0;34m\u001b[0m\u001b[0m\n",
      "\u001b[0;31mNoSuchElementException\u001b[0m: Message: no such element: Unable to locate element: {\"method\":\"css selector\",\"selector\":\"iframe\"}\n  (Session info: chrome=87.0.4280.141)\nStacktrace:\n0   chromedriver                        0x000000010fa0bd79 chromedriver + 2510201\n1   chromedriver                        0x0000000110078743 chromedriver + 9246531\n2   chromedriver                        0x000000010f846623 chromedriver + 652835\n3   chromedriver                        0x000000010f7ccd37 chromedriver + 154935\n4   chromedriver                        0x000000010f7f9834 chromedriver + 337972\n5   chromedriver                        0x000000010f7e8b5d chromedriver + 269149\n6   chromedriver                        0x000000010f7f7a96 chromedriver + 330390\n7   chromedriver                        0x000000010f7e8e23 chromedriver + 269859\n8   chromedriver                        0x000000010f7c200a chromedriver + 110602\n9   chromedriver                        0x000000010f7c2fc7 chromedriver + 114631\n10  chromedriver                        0x000000010f9dd429 chromedriver + 2319401\n11  chromedriver                        0x000000010f9e953f chromedriver + 2368831\n12  chromedriver                        0x000000010f9e9150 chromedriver + 2367824\n13  chromedriver                        0x000000010f9c423b chromedriver + 2216507\n14  chromedriver                        0x000000010f9e9a91 chromedriver + 2370193\n15  chromedriver                        0x000000010f9d24f9 chromedriver + 2274553\n16  chromedriver                        0x000000010f9fff89 chromedriver + 2461577\n17  chromedriver                        0x000000010fa113b3 chromedriver + 2532275\n18  libsystem_pthread.dylib             0x00007fff74f742eb _pthread_body + 126\n19  libsystem_pthread.dylib             0x00007fff74f77249 _pthread_start + 66\n20  libsystem_pthread.dylib             0x00007fff74f7340d thread_start + 13\n"
     ]
    }
   ],
   "source": [
    "url = \"https://www.time4education.com/moodle/samcatsolutions/samcatsolutions.asp?testno=585f485e585f485f585f485f585f485d585f485e585f485f585f485e585f485c585f48&idcardno=585f4827585f4820585f482c585f482c585f485f585f482e585f4856585f4856585f485a585f48\";\n",
    "varc_Questions = 24;\n",
    "dilr_Questions = 24; \n",
    "qa_Questions = 24; \n",
    "driver.get(url);\n",
    "driver.switch_to.frame(driver.find_element_by_tag_name(\"iframe\"));\n",
    "driver.find_elements_by_xpath(\"//*[@href]\")[10].click()\n",
    "test_data = scrap_test(varc_Questions, dilr_Questions, qa_Questions);\n",
    "Html_file= open(\"AIMCAT_3.html\",\"w\");\n",
    "Html_file.write(test_data);\n",
    "Html_file.close(); "
   ]
  },
  {
   "cell_type": "code",
   "execution_count": null,
   "metadata": {},
   "outputs": [],
   "source": []
  }
 ],
 "metadata": {
  "kernelspec": {
   "display_name": "Python 3",
   "language": "python",
   "name": "python3"
  },
  "language_info": {
   "codemirror_mode": {
    "name": "ipython",
    "version": 3
   },
   "file_extension": ".py",
   "mimetype": "text/x-python",
   "name": "python",
   "nbconvert_exporter": "python",
   "pygments_lexer": "ipython3",
   "version": "3.7.4"
  }
 },
 "nbformat": 4,
 "nbformat_minor": 2
}
